{
  "nbformat": 4,
  "nbformat_minor": 0,
  "metadata": {
    "colab": {
      "provenance": [],
      "include_colab_link": true
    },
    "kernelspec": {
      "name": "python3",
      "display_name": "Python 3"
    },
    "language_info": {
      "name": "python"
    }
  },
  "cells": [
    {
      "cell_type": "markdown",
      "metadata": {
        "id": "view-in-github",
        "colab_type": "text"
      },
      "source": [
        "<a href=\"https://colab.research.google.com/github/fernandopech/bootcamp_bah/blob/main/Bootcamp22_03.ipynb\" target=\"_parent\"><img src=\"https://colab.research.google.com/assets/colab-badge.svg\" alt=\"Open In Colab\"/></a>"
      ]
    },
    {
      "cell_type": "code",
      "execution_count": null,
      "metadata": {
        "colab": {
          "base_uri": "https://localhost:8080/"
        },
        "id": "ysesVv-OFWik",
        "outputId": "b1c0b0da-9fe5-4af2-e88a-58dd5c8fe31a"
      },
      "outputs": [
        {
          "output_type": "stream",
          "name": "stdout",
          "text": [
            "ola pessoal boa tarde\n"
          ]
        }
      ],
      "source": [
        "print(\"ola pessoal boa tarde\")"
      ]
    },
    {
      "cell_type": "code",
      "source": [
        "print ('Oi')"
      ],
      "metadata": {
        "id": "PBG9oRexFhQo",
        "outputId": "2b8dbed6-61a9-4953-e98d-79dc8186e787",
        "colab": {
          "base_uri": "https://localhost:8080/"
        }
      },
      "execution_count": 1,
      "outputs": [
        {
          "output_type": "stream",
          "name": "stdout",
          "text": [
            "Oi\n"
          ]
        }
      ]
    },
    {
      "cell_type": "code",
      "source": [],
      "metadata": {
        "id": "gGdUyGeGJKYH"
      },
      "execution_count": null,
      "outputs": []
    }
  ]
}